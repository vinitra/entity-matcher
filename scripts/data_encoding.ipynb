{
 "cells": [
  {
   "cell_type": "code",
   "execution_count": 11,
   "metadata": {},
   "outputs": [],
   "source": [
    "import tensorflow as tf\n",
    "import tensorflow_hub as hub\n",
    "import numpy as np\n",
    "import pandas as pd\n",
    "\n",
    "def cosine(u, v):\n",
    "    return np.dot(u, v) / (np.linalg.norm(u) * np.linalg.norm(v))"
   ]
  },
  {
   "cell_type": "code",
   "execution_count": 2,
   "metadata": {},
   "outputs": [
    {
     "name": "stdout",
     "output_type": "stream",
     "text": [
      "module https://tfhub.dev/google/universal-sentence-encoder/4 loaded\n"
     ]
    }
   ],
   "source": [
    "module_url = \"https://tfhub.dev/google/universal-sentence-encoder/4\" \n",
    "model = hub.load(module_url)\n",
    "print (\"module %s loaded\" % module_url)"
   ]
  },
  {
   "cell_type": "code",
   "execution_count": 5,
   "metadata": {},
   "outputs": [],
   "source": [
    "x1_raw = pd.read_csv('../data/X1.csv')\n",
    "y1_raw = pd.read_csv('../data/Y1.csv')\n",
    "x2_raw = pd.read_csv('../data/X2.csv')\n",
    "y2_raw = pd.read_csv('../data/Y2.csv')"
   ]
  },
  {
   "cell_type": "code",
   "execution_count": 7,
   "metadata": {},
   "outputs": [],
   "source": [
    "sentences = x1_raw.title\n",
    "sentence_embeddings = model(sentences)\n",
    "query = \"Lenovo Thinkpad X230 34352jf Tablet Pc - 12.5\"\n",
    "query_vec = model([query])[0]"
   ]
  },
  {
   "cell_type": "code",
   "execution_count": 12,
   "metadata": {},
   "outputs": [
    {
     "name": "stdout",
     "output_type": "stream",
     "text": [
      "Sentence =  Dell Inspiron 15 i5547-3751sLV 15.6\" I5547-3751SLV B&H ; similarity =  0.5097891\n",
      "Sentence =  Asus UX31A-XB52 13.3\" Laptop on sale for $1414.95 ; similarity =  0.54788536\n",
      "Sentence =  Acer Aspire S7-392-6807 Signature Edition on sale for $1092.99 ; similarity =  0.40464726\n",
      "Sentence =  Asus Zenbook Prime UX31A 13.3 Ultrabook on sale for $749.99 ; similarity =  0.59975076\n",
      "Sentence =  Best Asus ZENBOOK Prime UX31A-XB52-Core i5-3317U 1.70 GHz-4GB RAM-256GB SSD-Win 7 Pro-13.3\"Ultrabook-Silver Aluminum | TopEndElectronics UK ; similarity =  0.47299555\n",
      "Sentence =  Best HP EliteBook 8470w-C7A68UT-i7-3630QM-8GB-500GB HDD-Win 7-14\"LED Notebook | TopEndElectronics UK ; similarity =  0.41915128\n",
      "Sentence =  Best Lenovo ThinkPad X230 34355AU-i5-3320M 2.6GHz-4GB-180GB SSD-Win 7-12.5\" LED Notebook-Black | TopEndElectronics UK ; similarity =  0.67140573\n",
      "Sentence =  Best HP EliteBook 8470w-C6Z03UT-i7-3630QM-8GB-128GB SSD-Win 7-14\" LED Notebook | TopEndElectronics UK ; similarity =  0.3379234\n",
      "Sentence =  Best Acer Aspire E1-731-10054G50Mnii-Celeron 1005M-4GB-500GB HDD-Win 7-17.3\" LED Notebook | TopEndElectronics UK ; similarity =  0.38968343\n",
      "Sentence =  Best Acer Aspire E1-771-33116G50Mnii-i3-3110M-6GB-500GB HDD-Win 7-17.3\" LED Notebook | TopEndElectronics UK ; similarity =  0.39869654\n",
      "Sentence =  Best  Acer Aspire V5-132P-10194G50nss-Celeron 1019Y-4GB-500GB HDD-Win 8-11.6\"Touchscreen LED Notebook | TopEndElectronics UK ; similarity =  0.38879436\n",
      "Sentence =  Best Acer Aspire V5-123-12104G50nkk-E-Series E1-2100-4GB-500GB HDD-Win 8-11.6\" LED Notebook-Red | TopEndElectronics UK ; similarity =  0.31207845\n",
      "Sentence =  Best Acer Aspire V5-123-12104G50nkk-E-Series E1-2100-4GB-500GB HDD-Win 8-11.6\" LED Notebook-Black | TopEndElectronics UK ; similarity =  0.29402572\n",
      "Sentence =  Best Acer Aspire E1-771-53236G50Mnii-6GB-500GB HDD-Win 7-17.3\"LED Notebook | TopEndElectronics UK ; similarity =  0.4049624\n",
      "Sentence =  Best Acer Aspire E5-521-435W-AMD A-Series A4-6210 1.80GHz-4GB -500GB HDD-Win 8.1 64-bit-15.6\" LED Notebook -Black | TopEndElectronics UK ; similarity =  0.46049216\n",
      "Sentence =  Best Acer Aspire M5-481T-33226G52Mtss-i3-3227U-6GB-500GB HDD+20 GB SSD-Win 7-14\"LED Ultrabook | TopEndElectronics UK ; similarity =  0.45487717\n",
      "Sentence =  Best Acer Aspire ES1-511-C665-Intel N2930 1.83GHz - 4GB- 500GB HDD-Win 8.1 64-bit-15.6\" LED Notebook-Black | TopEndElectronics UK ; similarity =  0.40454975\n",
      "Sentence =  Acer Aspire Laptop PC, E1-771-53236G50Mnii - Walmart.com ; similarity =  0.4944446\n",
      "Sentence =  Acer Silver Aspire M5-481T-33226G52Mtss 14\" Laptop PC - Walmart.com ; similarity =  0.5011072\n",
      "Sentence =  Acer Aspire Laptop PC, E1-532-29574G50Mnrr - Walmart.com ; similarity =  0.5143158\n",
      "Sentence =  Acer Aspire Laptop PC, E1-771-33116G50Mnii - Walmart.com ; similarity =  0.5047654\n",
      "Sentence =  Acer Aspire Laptop PC, E1-731-10054G50Mnii - Walmart.com ; similarity =  0.5037645\n",
      "Sentence =  Acer Aspire Laptop PC, E1-532-35584G50Mnkk - Walmart.com ; similarity =  0.5448435\n",
      "Sentence =  Dell Silver 15.6\" Inspiron 15 5547 Laptop PC with Intel Core i5-4210U Processor, 6GB Memory, Touchscreen, 1TB Hard Drive and Windows 8.1: Computers : Walmart.com ; similarity =  0.5612684\n",
      "Sentence =  Acer 13.3\" Aspire Laptop PC, Crystal White, S7-392-6845 - Walmart.com ; similarity =  0.44089383\n",
      "Sentence =  Acer Aspire Laptop PC, E1-532-35584G50Mnrr - Walmart.com ; similarity =  0.49745533\n",
      "Sentence =  Acer Glossy Black 11.6\" Aspire V5-123-3466 Laptop PC with AMD E1-2100 Dual-Core Processor, 4GB Memory, 500GB Hard Drive and Windows 8: Computers : Walmart.com ; similarity =  0.5157302\n",
      "Sentence =  Miniprice.ca - Lenovo ThinkPad X230 34355AF Tablet PC - 12.5\" - In-plane Switching (IPS) Technology - Wireless LAN - Intel Core i5 i5-3320M 2.60 GHz - Black - 4 GB RAM - 180 GB SSD - Windows 7 Professional 64-bit (34355AF-DDO) ; similarity =  0.66911966\n",
      "Sentence =  Acer Aspire M5-481T-33226G52Mtss 14\" LED Ultrabook - Intel Core i3 i3-3227U 1.90 GHz - NXM26AA009 - Laptops & Notebooks - ACER Laptops & Notebooks - TheNerds.net ; similarity =  0.5640252\n",
      "Sentence =  Acer Aspire E1-532-35584G50Mnrr 15.6\" LED Notebook - Intel Pentium 3558U 1.70 GHz - Red - NXMHGAA002 - Laptops & Notebooks - ACER Laptops & Notebooks - TheNerds.net ; similarity =  0.53915864\n",
      "Sentence =  Acer Aspire V5-123-12104G50nrr 11.6\" LED (ComfyView) Notebook - AMD E-Series E1-2100 1 GHz - Red - NXML2AA001 - Laptops & Notebooks - ACER Laptops & Notebooks - TheNerds.net ; similarity =  0.48743019\n",
      "Sentence =  Acer Aspire E1-532-35584G50Mnkk 15.6\" LED Notebook - Intel Pentium 3558U 1.70 GHz - Black - NXMFVAA005 - Laptops & Notebooks - ACER Laptops & Notebooks - TheNerds.net ; similarity =  0.53998584\n",
      "Sentence =  Acer Aspire E1-532-29574G50Mnkk 15.6\" LED Notebook - Intel Celeron 2957U 1.40 GHz - Black - NXMFVAA006 - Laptops & Notebooks - ACER Laptops & Notebooks - TheNerds.net ; similarity =  0.52927774\n",
      "Sentence =  Acer Aspire E1-532-29574G50Mnrr 15.6\" LED Notebook - Intel Celeron 2957U 1.40 GHz - Red - NXMHGAA001 - Laptops & Notebooks - ACER Laptops & Notebooks - TheNerds.net ; similarity =  0.523258\n",
      "Sentence =  Acer Aspire V5-123-12104G50nkk 11.6\" LED (ComfyView) Notebook - AMD E-Series E1-2100 1 GHz - Black - NXMFQAA005 - Laptops & Notebooks - ACER Laptops & Notebooks - TheNerds.net ; similarity =  0.4994618\n",
      "Sentence =  Acer Aspire E1-572-34014G50Mnkk 15.6\" LED Notebook - Intel Core i3 i3-4010U 1.70 GHz - Black - NXM8EAA007 - Laptops & Notebooks - ACER Laptops & Notebooks - TheNerds.net ; similarity =  0.5423586\n",
      "Sentence =  Acer Aspire ES1-511-C665 15.6\" LED Notebook - Intel Celeron N2930 1.83 GHz - NXMMLAA015 - Laptops & Notebooks - ACER Laptops & Notebooks - TheNerds.net ; similarity =  0.52914554\n",
      "Sentence =  Acer Aspire E1-771-33116G50Mnii 17.3\" LED Notebook - Intel Core i3 i3-3110M 2.40 GHz - NXMG7AA006 - Laptops & Notebooks - ACER Laptops & Notebooks - TheNerds.net ; similarity =  0.5291226\n",
      "Sentence =  Acer Aspire S7-392-54208G25tws 13.3\" Touchscreen LED (In-plane Switching (IPS) Technology) Ultrabook - Intel Core i5 i5-4200U 1.60 GHz - NXMBKAA023 - Laptops & Notebooks - ACER Laptops & Notebooks - TheNerds.net ; similarity =  0.57271934\n",
      "Sentence =  Acer Aspire E1-771-53236G50Mnii 17.3\" LED Notebook - Intel Core i5 i5-3230M 2.60 GHz - NXMG7AA005 - Laptops & Notebooks - ACER Laptops & Notebooks - TheNerds.net ; similarity =  0.55358225\n",
      "Sentence =  Acer Aspire V5-132P-10194G50nss 11.6\" Touchscreen LED Notebook - Intel Celeron 1019Y 1 GHz - Silver - NXMDRAA001 - Laptops & Notebooks - ACER Laptops & Notebooks - TheNerds.net ; similarity =  0.5340879\n",
      "Sentence =  Acer Aspire E5-521-435W 15.6\" LED Notebook - AMD A-Series A4-6210 1.80 GHz - Black - NXMLFAA010 - Laptops & Notebooks - ACER Laptops & Notebooks - TheNerds.net ; similarity =  0.49521986\n",
      "Sentence =  Acer Aspire E1-572-34014G50Mnrr 15.6\" LED Notebook - Intel Core i3 i3-4010U 1.70 GHz - Red - NXMHFAA002 - Laptops & Notebooks - ACER Laptops & Notebooks - TheNerds.net ; similarity =  0.5341607\n"
     ]
    }
   ],
   "source": [
    "for sent in sentences:\n",
    "    sim = cosine(query_vec, model([sent])[0])\n",
    "    print(\"Sentence = \", sent, \"; similarity = \", sim)"
   ]
  }
 ],
 "metadata": {
  "kernelspec": {
   "display_name": "dev",
   "language": "python",
   "name": "dev"
  },
  "language_info": {
   "codemirror_mode": {
    "name": "ipython",
    "version": 3
   },
   "file_extension": ".py",
   "mimetype": "text/x-python",
   "name": "python",
   "nbconvert_exporter": "python",
   "pygments_lexer": "ipython3",
   "version": "3.8.8"
  }
 },
 "nbformat": 4,
 "nbformat_minor": 4
}
