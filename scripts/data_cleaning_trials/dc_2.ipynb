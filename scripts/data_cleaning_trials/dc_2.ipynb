{
 "metadata": {
  "language_info": {
   "codemirror_mode": {
    "name": "ipython",
    "version": 3
   },
   "file_extension": ".py",
   "mimetype": "text/x-python",
   "name": "python",
   "nbconvert_exporter": "python",
   "pygments_lexer": "ipython3",
   "version": "3.8.5-final"
  },
  "orig_nbformat": 2,
  "kernelspec": {
   "name": "python3",
   "display_name": "Python 3.8.5 64-bit ('venv')",
   "metadata": {
    "interpreter": {
     "hash": "0bd7aa8276c3010a10aeabf2ca3b148c38fd171580b690d87ad5fde9f3b26399"
    }
   }
  }
 },
 "nbformat": 4,
 "nbformat_minor": 2,
 "cells": [
  {
   "cell_type": "code",
   "execution_count": 47,
   "metadata": {},
   "outputs": [],
   "source": [
    "import pandas as pd\n",
    "import numpy as np"
   ]
  },
  {
   "cell_type": "code",
   "execution_count": 90,
   "metadata": {},
   "outputs": [],
   "source": [
    "df = pd.read_csv('../../data/X2.csv')"
   ]
  },
  {
   "cell_type": "code",
   "execution_count": 91,
   "metadata": {},
   "outputs": [],
   "source": [
    "df.fillna('', inplace=True)\n",
    "df = df.applymap(lambda x: str(x).lower().strip())\n",
    "\n",
    "pattern_string = '( - )|,|:|\\(|\\)'\n",
    "preprocessed_titles = df[\"title\"].replace(pattern_string, ' ', regex=True)\n",
    "\n",
    "df.insert(len(df.columns), \"preprocessed_titles\", preprocessed_titles)"
   ]
  },
  {
   "cell_type": "code",
   "execution_count": 92,
   "metadata": {},
   "outputs": [
    {
     "output_type": "stream",
     "name": "stdout",
     "text": [
      "<class 'pandas.core.frame.DataFrame'>\nRangeIndex: 343 entries, 0 to 342\nData columns (total 15 columns):\n #   Column               Non-Null Count  Dtype \n---  ------               --------------  ----- \n 0   instance_id          343 non-null    object\n 1   brand                343 non-null    object\n 2   cpu_brand            343 non-null    object\n 3   cpu_model            343 non-null    object\n 4   cpu_type             343 non-null    object\n 5   cpu_frequency        343 non-null    object\n 6   ram_capacity         343 non-null    object\n 7   ram_type             343 non-null    object\n 8   ram_frequency        343 non-null    object\n 9   hdd_capacity         343 non-null    object\n 10  ssd_capacity         343 non-null    object\n 11  weight               343 non-null    object\n 12  dimensions           343 non-null    object\n 13  title                343 non-null    object\n 14  preprocessed_titles  343 non-null    object\ndtypes: object(15)\nmemory usage: 40.3+ KB\n"
     ]
    }
   ],
   "source": [
    "df.info()"
   ]
  },
  {
   "cell_type": "code",
   "execution_count": 93,
   "metadata": {},
   "outputs": [],
   "source": [
    "processors = ['core i3', 'core i5', 'core i7', 'intel', 'amd']\n",
    "def check_processor(text):\n",
    "    for p in processors:\n",
    "        if(p in text):\n",
    "            return p\n",
    "    return 'unknown'        "
   ]
  },
  {
   "cell_type": "code",
   "execution_count": 94,
   "metadata": {},
   "outputs": [
    {
     "output_type": "execute_result",
     "data": {
      "text/plain": [
       "0      intel. i5-3320mi5-3320mdual-core ( 2 core ). c...\n",
       "1      1.6 ghz intel core i5-4200u. intel core i51.6 ...\n",
       "2      1.6 ghz intel core i5. intel core i51.6 ghz in...\n",
       "3      amazon.com : 15.6\" hp 15-f009wm amd dual-core ...\n",
       "4      1.7 ghz core i5-3317u. intel1.7 ghz core i5-33...\n",
       "                             ...                        \n",
       "338    intel core i5 ( 3rd gen ) 3320m / 2.6 ghz. int...\n",
       "339    intel core i5 ( 3rd gen ) 3320m / 2.6 ghz. int...\n",
       "340    intel core i5 ( 3rd gen ) 3320m / 2.6 ghz. int...\n",
       "341    intel core i5 ( 3rd gen ) 3320m / 2.6 ghz. int...\n",
       "342    intel core i7 ( 3rd gen ) 3520m / 2.9 ghz. int...\n",
       "Name: all_cpu, Length: 343, dtype: object"
      ]
     },
     "metadata": {},
     "execution_count": 94
    }
   ],
   "source": [
    "df[\"all_cpu\"] = df[\"cpu_brand\"] + df[\"cpu_model\"] + df[\"cpu_type\"] + df[\"cpu_frequency\"] + df[\"title\"] + df[\"brand\"]\n",
    "\n",
    "df[\"all_cpu\"]"
   ]
  },
  {
   "cell_type": "code",
   "execution_count": 95,
   "metadata": {},
   "outputs": [
    {
     "output_type": "execute_result",
     "data": {
      "text/plain": [
       "0      core i5\n",
       "1      core i5\n",
       "2      core i5\n",
       "3          amd\n",
       "4      core i5\n",
       "        ...   \n",
       "338    core i5\n",
       "339    core i5\n",
       "340    core i5\n",
       "341    core i5\n",
       "342    core i7\n",
       "Name: blocking_processor, Length: 343, dtype: object"
      ]
     },
     "metadata": {},
     "execution_count": 95
    }
   ],
   "source": [
    "df[\"blocking_processor\"] = df[\"all_cpu\"].apply(check_processor)\n",
    "df[\"blocking_processor\"]"
   ]
  },
  {
   "cell_type": "code",
   "execution_count": 100,
   "metadata": {},
   "outputs": [],
   "source": [
    "grps = df[\"blocking_processor\"].groupby(df[\"blocking_processor\"])"
   ]
  },
  {
   "cell_type": "code",
   "execution_count": 101,
   "metadata": {},
   "outputs": [
    {
     "output_type": "execute_result",
     "data": {
      "text/plain": [
       "blocking_processor\n",
       "amd         16\n",
       "core i3     39\n",
       "core i5    197\n",
       "core i7     79\n",
       "intel       12\n",
       "Name: blocking_processor, dtype: int64"
      ]
     },
     "metadata": {},
     "execution_count": 101
    }
   ],
   "source": [
    "grps.count()"
   ]
  },
  {
   "cell_type": "code",
   "execution_count": 119,
   "metadata": {},
   "outputs": [],
   "source": [
    "def extract_brands(text):\n",
    "    if(text):\n",
    "        return text.split()[0]\n",
    "    return 'unknown'\n",
    "\n",
    "brands = set(df[\"brand\"].apply(extract_brands).unique()) - set(['unknown'])"
   ]
  },
  {
   "cell_type": "code",
   "execution_count": 120,
   "metadata": {},
   "outputs": [
    {
     "output_type": "execute_result",
     "data": {
      "text/plain": [
       "{'acer', 'asus', 'dell', 'hp', 'lb1', 'lenovo'}"
      ]
     },
     "metadata": {},
     "execution_count": 120
    }
   ],
   "source": [
    "brands"
   ]
  },
  {
   "cell_type": "code",
   "execution_count": 121,
   "metadata": {},
   "outputs": [],
   "source": [
    "def get_blocking_brands(text):\n",
    "    for b in brands:\n",
    "        if(b in text):\n",
    "            return b\n",
    "    return 'unknown'"
   ]
  },
  {
   "cell_type": "code",
   "execution_count": 125,
   "metadata": {},
   "outputs": [],
   "source": [
    "df[\"blocking_brand\"] = df[\"title\"].apply(get_blocking_brands)"
   ]
  },
  {
   "cell_type": "code",
   "execution_count": 126,
   "metadata": {},
   "outputs": [],
   "source": [
    "grps = df[\"blocking_brand\"].groupby(df[\"blocking_brand\"])"
   ]
  },
  {
   "cell_type": "code",
   "execution_count": 127,
   "metadata": {},
   "outputs": [
    {
     "output_type": "execute_result",
     "data": {
      "text/plain": [
       "blocking_brand\n",
       "acer       56\n",
       "asus        2\n",
       "dell        9\n",
       "hp         37\n",
       "lb1         5\n",
       "lenovo    234\n",
       "Name: blocking_brand, dtype: int64"
      ]
     },
     "metadata": {},
     "execution_count": 127
    }
   ],
   "source": [
    "grps.count()"
   ]
  },
  {
   "cell_type": "code",
   "execution_count": 130,
   "metadata": {},
   "outputs": [],
   "source": [
    "df[\"blocking_key\"] = df[\"blocking_brand\"] + ' ' + df[\"blocking_processor\"]"
   ]
  },
  {
   "cell_type": "code",
   "execution_count": 131,
   "metadata": {},
   "outputs": [
    {
     "output_type": "execute_result",
     "data": {
      "text/plain": [
       "blocking_key\n",
       "acer amd            2\n",
       "acer core i3       23\n",
       "acer core i5       13\n",
       "acer core i7        6\n",
       "acer intel         12\n",
       "asus core i5        2\n",
       "dell amd            2\n",
       "dell core i5        5\n",
       "dell core i7        2\n",
       "hp amd              6\n",
       "hp core i3          4\n",
       "hp core i5         25\n",
       "hp core i7          2\n",
       "lb1 core i3         5\n",
       "lenovo amd          6\n",
       "lenovo core i3      7\n",
       "lenovo core i5    152\n",
       "lenovo core i7     69\n",
       "Name: blocking_key, dtype: int64"
      ]
     },
     "metadata": {},
     "execution_count": 131
    }
   ],
   "source": [
    "df[\"blocking_key\"].groupby(df[\"blocking_key\"]).count()"
   ]
  },
  {
   "cell_type": "code",
   "execution_count": null,
   "metadata": {},
   "outputs": [],
   "source": []
  }
 ]
}