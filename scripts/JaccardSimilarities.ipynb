{
 "cells": [
  {
   "cell_type": "code",
   "execution_count": 21,
   "metadata": {},
   "outputs": [],
   "source": [
    "class Record:\n",
    "    def __init__(self, rid, rtitle, rblockingKey):\n",
    "        self.id = rid\n",
    "        self.title = rtitle\n",
    "        self.blockingKey = rblockingKey"
   ]
  },
  {
   "cell_type": "code",
   "execution_count": 22,
   "metadata": {},
   "outputs": [],
   "source": [
    "def readFile():\n",
    "    with open(\"X2_blocking_keys_preprocessed.csv\") as f:\n",
    "        content = f.readlines()\n",
    "        records = []\n",
    "        firstLine = True\n",
    "        for line in content:\n",
    "            if (firstLine):\n",
    "                firstLine = False\n",
    "                continue\n",
    "            attrs = line.split(\",\")\n",
    "            id = attrs[1]\n",
    "            title = attrs[14] \n",
    "            #some times we have \"\\n\" at the end of the blocking key\n",
    "            blockingKey = attrs[17] \n",
    "            blockingKey = blockingKey.split(\"\\n\")[0]\n",
    "            rec = Record(id, title, blockingKey)\n",
    "            #print(rec.id + rec.blockingKey)\n",
    "            records.append(rec)\n",
    "    return records"
   ]
  },
  {
   "cell_type": "code",
   "execution_count": 23,
   "metadata": {},
   "outputs": [],
   "source": [
    "def findClusters():\n",
    "    with open(\"sigmod-contest-2021\\data\\clustered_x2.csv\") as f:\n",
    "        content = f.readlines()\n",
    "        clusters = []\n",
    "        firstLine = True\n",
    "        cluster = set()\n",
    "        for line in content:\n",
    "            if (firstLine):\n",
    "                firstLine = False\n",
    "                continue\n",
    "        \n",
    "            attrs = line.split(\",\")\n",
    "            if (attrs[0] == \"-----\"):\n",
    "                clusters.append(cluster)\n",
    "                cluster = set()\n",
    "                continue\n",
    "            cluster.add(attrs[0])\n",
    "    return clusters"
   ]
  },
  {
   "cell_type": "code",
   "execution_count": 24,
   "metadata": {},
   "outputs": [],
   "source": [
    "def calculateJaccard(r1, r2):\n",
    "    \n",
    "    tokenizedBlKey1 = tokenize(r1.blockingKey)\n",
    "    tokenizedBlKey2 = tokenize(r2.blockingKey)\n",
    "\n",
    "    # if the records have different blocking key return 0\n",
    "    if len(tokenizedBlKey1) != len(tokenizedBlKey2):\n",
    "        return 0\n",
    "    for token in tokenizedBlKey1:\n",
    "        if not token in tokenizedBlKey2:\n",
    "            return 0\n",
    "    \n",
    "    # otherwise tokenize titles and find their jaccard\n",
    "    tokenizedTitle1 = tokenize(r1.title)\n",
    "    tokenizedTitle2 = tokenize(r2.title)\n",
    "    \n",
    "    if (len(tokenizedTitle1) > len(tokenizedTitle2)):\n",
    "        return calcJacTitles(tokenizedTitle1, tokenizedTitle2)\n",
    "    return calcJacTitles(tokenizedTitle2, tokenizedTitle1)\n",
    "\n",
    "#title1 has more tokens than 2\n",
    "def calcJacTitles(title1, title2):\n",
    "    countIntersection = 0\n",
    "    for token in title2:\n",
    "        if token in title1:\n",
    "            countIntersection += 1\n",
    "    countUnion = len(title1) + len(title2) - countIntersection\n",
    "    return countIntersection/countUnion"
   ]
  },
  {
   "cell_type": "code",
   "execution_count": 25,
   "metadata": {},
   "outputs": [],
   "source": [
    "# tokenize a string\n",
    "def tokenize(s):\n",
    "    s = s.replace(\"/\", \" \")\n",
    "    tokens = s.split()\n",
    "    return tokens\n",
    "    "
   ]
  },
  {
   "cell_type": "code",
   "execution_count": 26,
   "metadata": {},
   "outputs": [
    {
     "name": "stdout",
     "output_type": "stream",
     "text": [
      "['acer', 'core', 'i3']\n",
      "['acer', 'core', 'i3']\n",
      "HEREEE\n"
     ]
    }
   ],
   "source": [
    "records = readFile()\n",
    "clusters = findClusters()\n",
    "resultString = \"id,avgInnerSim,maxInnerSim,minInnerSim,avgOuterSim,maxOuterSim,minOuterSim\\n\"\n",
    "\n",
    "for r1 in records:\n",
    "    cluster = set()\n",
    "    maxInnerSim = 0\n",
    "    sumInnerSim = 0\n",
    "    minInnerSim = 1\n",
    "    maxOuterSim = 0\n",
    "    sumOuterSim = 0\n",
    "    minOuterSim = 1\n",
    "    \n",
    "    # find the cluster of r1\n",
    "    for c in clusters:\n",
    "        if r1.id in c:\n",
    "            cluster = c\n",
    "            break\n",
    "            \n",
    "    for r2 in records:\n",
    "        if r1.id != r2.id:\n",
    "            jac = calculateJaccard(r1, r2)\n",
    "            if r2.id in cluster: # if records in the same cluster\n",
    "                # update inner similarities\n",
    "                sumInnerSim += jac\n",
    "                if (jac > maxInnerSim):\n",
    "                    maxInnerSim = jac\n",
    "                if (jac < minInnerSim):\n",
    "                    minInnerSim = jac\n",
    "            else: # if records in different clusters\n",
    "                # update outer similarities\n",
    "                sumOuterSim += jac\n",
    "                if (jac > maxOuterSim):\n",
    "                    maxOuterSim = jac\n",
    "                if (jac < minOuterSim):\n",
    "                    minOuterSim = jac\n",
    "    avgInnerSim = sumInnerSim/(len(cluster)-1)\n",
    "    avgOuterSim = sumOuterSim/(len(records) - len(cluster) -1)\n",
    "    resultString += (r1.id + \",\" + str(avgInnerSim) + \",\" + str(maxInnerSim)+ \",\" + str(minInnerSim) + \",\" + str(avgOuterSim) + \",\" + str(maxOuterSim) + \",\" + str(minOuterSim) + \"\\n\")\n",
    "    \n",
    "f = open(\"jaccard.csv\", \"w\")\n",
    "f.write(resultString)\n",
    "f.close()"
   ]
  },
  {
   "cell_type": "code",
   "execution_count": null,
   "metadata": {},
   "outputs": [],
   "source": []
  }
 ],
 "metadata": {
  "kernelspec": {
   "display_name": "Python 3",
   "language": "python",
   "name": "python3"
  },
  "language_info": {
   "codemirror_mode": {
    "name": "ipython",
    "version": 3
   },
   "file_extension": ".py",
   "mimetype": "text/x-python",
   "name": "python",
   "nbconvert_exporter": "python",
   "pygments_lexer": "ipython3",
   "version": "3.7.6"
  }
 },
 "nbformat": 4,
 "nbformat_minor": 4
}
